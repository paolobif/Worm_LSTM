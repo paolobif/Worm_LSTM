{
 "cells": [
  {
   "cell_type": "code",
   "execution_count": 68,
   "metadata": {},
   "outputs": [
    {
     "name": "stdout",
     "output_type": "stream",
     "text": [
      "The autoreload extension is already loaded. To reload it, use:\n",
      "  %reload_ext autoreload\n"
     ]
    }
   ],
   "source": [
    "%load_ext autoreload\n",
    "%autoreload 2\n",
    "\n",
    "from __future__ import print_function\n",
    "%matplotlib inline\n",
    "import cv2\n",
    "import os\n",
    "from skimage import io, transform\n",
    "import numpy as np\n",
    "\n",
    "import matplotlib.pyplot as plt\n",
    "import matplotlib.animation as animation\n",
    "from IPython.display import HTML\n",
    "\n",
    "import torch\n",
    "import torchvision\n",
    "from torchvision import transforms, datasets, utils as vutils\n",
    "from torch.utils.data import Dataset, DataLoader\n",
    "import torch.nn as nn\n",
    "import torch.nn.functional as F\n",
    "import torch.optim as optim"
   ]
  },
  {
   "cell_type": "code",
   "execution_count": 69,
   "metadata": {},
   "outputs": [],
   "source": [
    "# https://www.researchgate.net/publication/353370951_Towards_Lifespan_Automation_for_Caenorhabditis_elegans_Based_on_Deep_Learning_Analysing_Convolutional_and_Recurrent_Neural_Networks_for_Dead_or_Live_Classification\n",
    "\n",
    "from data_utils import LstmLoader\n",
    "from model import Resnet18Pretrained\n",
    "from model import ResnetLSTM\n",
    "\n",
    "\n",
    "data_path = \"data/training\"\n",
    "\n",
    "data_loader = LstmLoader(data_path)\n",
    "\n",
    "\n",
    "# Settings\n",
    "\n",
    "learning_rate = 0.1\n",
    "\n",
    "epochs = 100\n",
    "\n",
    "\n",
    "device = torch.device(\"cuda:0\" if torch.cuda.is_available() else \"cpu\")\n"
   ]
  },
  {
   "cell_type": "code",
   "execution_count": 52,
   "metadata": {},
   "outputs": [
    {
     "name": "stdout",
     "output_type": "stream",
     "text": [
      "tensor([[0.5091]], device='cuda:0', grad_fn=<SigmoidBackward>)\n",
      "tensor([[0.5123]], device='cuda:0', grad_fn=<SigmoidBackward>)\n",
      "tensor(1)\n"
     ]
    }
   ],
   "source": [
    "sample = torch.randn(3, 3, 244, 244).to(device)\n",
    "\n",
    "# Pass a few data to see how it looks\n",
    "model = ResnetLSTM().to(device)\n",
    "a = model(sample)\n",
    "print(a)\n",
    "\n",
    "sample, label = data_loader[0][0].to(device), data_loader[0][1]\n",
    "out = model(sample)\n",
    "print(out)\n",
    "\n",
    "print(label)"
   ]
  },
  {
   "cell_type": "code",
   "execution_count": 53,
   "metadata": {},
   "outputs": [
    {
     "name": "stdout",
     "output_type": "stream",
     "text": [
      "Total Data: 2144\n",
      "Test split: 321\n",
      "Train split: 1823\n"
     ]
    }
   ],
   "source": [
    "\n",
    "test_len = int(len(data_loader) * 0.15)\n",
    "train_len = len(data_loader) - test_len\n",
    "\n",
    "print(f\"Total Data: {len(data_loader)}\")\n",
    "print(f\"Test split: {test_len}\")\n",
    "print(f\"Train split: {train_len}\")\n",
    "\n",
    "test_data, train_data = torch.utils.data.random_split(data_loader, (test_len, train_len))\n",
    "\n",
    "# train_data = DataLoader(train_dataset, batch_size=4, shuffle=True, num_workers=0)\n",
    "# test_data = DataLoader(test_dataset, batch_size=1, shuffle=True, num_workers=0)\n"
   ]
  },
  {
   "cell_type": "code",
   "execution_count": 45,
   "metadata": {},
   "outputs": [],
   "source": [
    "# train_data = DataLoader(train_data, batch_size=None, shuffle=True, num_workers=0)\n",
    "# test_data = DataLoader(test_data, batch_size=None, shuffle=True, num_workers=0)"
   ]
  },
  {
   "cell_type": "code",
   "execution_count": 46,
   "metadata": {},
   "outputs": [
    {
     "name": "stdout",
     "output_type": "stream",
     "text": [
      "908 915\n"
     ]
    }
   ],
   "source": [
    "alive = 0\n",
    "dead = 0\n",
    "\n",
    "for i in train_data:\n",
    "    seq, label = i\n",
    "    if int(label) == 1:\n",
    "        alive += 1\n",
    "    elif int(label) == 0:\n",
    "        dead += 1\n",
    "        \n",
    "print(dead, alive)"
   ]
  },
  {
   "cell_type": "code",
   "execution_count": 47,
   "metadata": {},
   "outputs": [
    {
     "name": "stdout",
     "output_type": "stream",
     "text": [
      "0 0\n"
     ]
    },
    {
     "data": {
      "text/plain": [
       "(0.5109, 0, 0.5109)"
      ]
     },
     "execution_count": 47,
     "metadata": {},
     "output_type": "execute_result"
    }
   ],
   "source": [
    "def test_model(model2, data):\n",
    "    correct = 0\n",
    "    incorrect = 0\n",
    "    dead_correct = 0\n",
    "    dead_incorrect = 0\n",
    "    alive_correct = 0\n",
    "    alive_incorrect = 0\n",
    "    \n",
    "    with torch.no_grad():\n",
    "        for series, label in data:\n",
    "            series = series.to(device)\n",
    "            real_class = int(label)\n",
    "#             real_class = int(torch.argmax(label))\n",
    "            \n",
    "            output = model2(series)\n",
    "            if output > 0.5:\n",
    "                pred_class = 1\n",
    "            elif output < 0.5:\n",
    "                pred_class = 0\n",
    "\n",
    "#             print(output, pred_class, real_class)\n",
    "            if pred_class == real_class:\n",
    "                correct += 1\n",
    "                if pred_class == 0:\n",
    "                    dead_correct += 1\n",
    "                elif pred_class == 1:\n",
    "                    alive_correct += 1\n",
    "                    \n",
    "            else:\n",
    "                incorrect += 1\n",
    "                if pred_class == 0:\n",
    "                    dead_incorrect += 1\n",
    "                elif pred_class == 1:\n",
    "                    alive_incorrect += 1\n",
    "    \n",
    "    print(alive_correct, alive_incorrect)\n",
    "    \n",
    "    overall_accuracy = correct / len(data)\n",
    "    alive_accuracy = alive_correct / (alive_correct + alive_incorrect) if alive_correct else 0\n",
    "    dead_accuracy = dead_correct / (dead_correct + dead_incorrect) if dead_correct else 0\n",
    "    \n",
    "#     return (correct, incorrect, len(data))\n",
    "    return round(overall_accuracy, 4), round(alive_accuracy, 4), round(dead_accuracy, 4)\n",
    "\n",
    "test_model(model, test_data)"
   ]
  },
  {
   "cell_type": "code",
   "execution_count": 54,
   "metadata": {},
   "outputs": [
    {
     "name": "stdout",
     "output_type": "stream",
     "text": [
      "138 0\n",
      "Epoch 0/100 - Test Accuracy: 0.9502 - A&D: 1.0, 0.9126 - Loss: 0.2826448678970337\n",
      "143 0\n",
      "Epoch 1/100 - Test Accuracy: 0.9657 - A&D: 1.0, 0.9382 - Loss: 0.1604517698287964\n",
      "144 0\n",
      "Epoch 2/100 - Test Accuracy: 0.9688 - A&D: 1.0, 0.9435 - Loss: 0.14952358603477478\n",
      "146 0\n",
      "Epoch 3/100 - Test Accuracy: 0.9751 - A&D: 1.0, 0.9543 - Loss: 0.11192696541547775\n",
      "144 2\n",
      "Epoch 4/100 - Test Accuracy: 0.9626 - A&D: 0.9863, 0.9429 - Loss: 0.09723486006259918\n",
      "148 0\n",
      "Epoch 5/100 - Test Accuracy: 0.9813 - A&D: 1.0, 0.9653 - Loss: 0.0834372267127037\n",
      "116 2\n",
      "Epoch 6/100 - Test Accuracy: 0.8754 - A&D: 0.9831, 0.8128 - Loss: 0.058544691652059555\n",
      "149 1\n",
      "Epoch 7/100 - Test Accuracy: 0.9813 - A&D: 0.9933, 0.9708 - Loss: 0.0681101456284523\n",
      "148 0\n",
      "Epoch 8/100 - Test Accuracy: 0.9813 - A&D: 1.0, 0.9653 - Loss: 0.055228091776371\n",
      "149 1\n",
      "Epoch 9/100 - Test Accuracy: 0.9813 - A&D: 0.9933, 0.9708 - Loss: 0.04451083391904831\n",
      "149 0\n",
      "Epoch 10/100 - Test Accuracy: 0.9844 - A&D: 1.0, 0.9709 - Loss: 0.040675703436136246\n"
     ]
    },
    {
     "ename": "KeyboardInterrupt",
     "evalue": "",
     "output_type": "error",
     "traceback": [
      "\u001b[0;31m---------------------------------------------------------------------------\u001b[0m",
      "\u001b[0;31mKeyboardInterrupt\u001b[0m                         Traceback (most recent call last)",
      "\u001b[0;32m<ipython-input-54-d618a51ee052>\u001b[0m in \u001b[0;36m<module>\u001b[0;34m\u001b[0m\n\u001b[1;32m     32\u001b[0m         \u001b[0mloss_total\u001b[0m \u001b[0;34m+=\u001b[0m \u001b[0mloss\u001b[0m\u001b[0;34m\u001b[0m\u001b[0;34m\u001b[0m\u001b[0m\n\u001b[1;32m     33\u001b[0m \u001b[0;31m#         print(output, label, loss)\u001b[0m\u001b[0;34m\u001b[0m\u001b[0;34m\u001b[0m\u001b[0;34m\u001b[0m\u001b[0m\n\u001b[0;32m---> 34\u001b[0;31m         \u001b[0mloss\u001b[0m\u001b[0;34m.\u001b[0m\u001b[0mbackward\u001b[0m\u001b[0;34m(\u001b[0m\u001b[0;34m)\u001b[0m\u001b[0;34m\u001b[0m\u001b[0;34m\u001b[0m\u001b[0m\n\u001b[0m\u001b[1;32m     35\u001b[0m         \u001b[0moptimizer\u001b[0m\u001b[0;34m.\u001b[0m\u001b[0mstep\u001b[0m\u001b[0;34m(\u001b[0m\u001b[0;34m)\u001b[0m\u001b[0;34m\u001b[0m\u001b[0;34m\u001b[0m\u001b[0m\n\u001b[1;32m     36\u001b[0m \u001b[0;34m\u001b[0m\u001b[0m\n",
      "\u001b[0;32m~/.local/lib/python3.8/site-packages/torch/tensor.py\u001b[0m in \u001b[0;36mbackward\u001b[0;34m(self, gradient, retain_graph, create_graph)\u001b[0m\n\u001b[1;32m    219\u001b[0m                 \u001b[0mretain_graph\u001b[0m\u001b[0;34m=\u001b[0m\u001b[0mretain_graph\u001b[0m\u001b[0;34m,\u001b[0m\u001b[0;34m\u001b[0m\u001b[0;34m\u001b[0m\u001b[0m\n\u001b[1;32m    220\u001b[0m                 create_graph=create_graph)\n\u001b[0;32m--> 221\u001b[0;31m         \u001b[0mtorch\u001b[0m\u001b[0;34m.\u001b[0m\u001b[0mautograd\u001b[0m\u001b[0;34m.\u001b[0m\u001b[0mbackward\u001b[0m\u001b[0;34m(\u001b[0m\u001b[0mself\u001b[0m\u001b[0;34m,\u001b[0m \u001b[0mgradient\u001b[0m\u001b[0;34m,\u001b[0m \u001b[0mretain_graph\u001b[0m\u001b[0;34m,\u001b[0m \u001b[0mcreate_graph\u001b[0m\u001b[0;34m)\u001b[0m\u001b[0;34m\u001b[0m\u001b[0;34m\u001b[0m\u001b[0m\n\u001b[0m\u001b[1;32m    222\u001b[0m \u001b[0;34m\u001b[0m\u001b[0m\n\u001b[1;32m    223\u001b[0m     \u001b[0;32mdef\u001b[0m \u001b[0mregister_hook\u001b[0m\u001b[0;34m(\u001b[0m\u001b[0mself\u001b[0m\u001b[0;34m,\u001b[0m \u001b[0mhook\u001b[0m\u001b[0;34m)\u001b[0m\u001b[0;34m:\u001b[0m\u001b[0;34m\u001b[0m\u001b[0;34m\u001b[0m\u001b[0m\n",
      "\u001b[0;32m~/.local/lib/python3.8/site-packages/torch/autograd/__init__.py\u001b[0m in \u001b[0;36mbackward\u001b[0;34m(tensors, grad_tensors, retain_graph, create_graph, grad_variables)\u001b[0m\n\u001b[1;32m    128\u001b[0m         \u001b[0mretain_graph\u001b[0m \u001b[0;34m=\u001b[0m \u001b[0mcreate_graph\u001b[0m\u001b[0;34m\u001b[0m\u001b[0;34m\u001b[0m\u001b[0m\n\u001b[1;32m    129\u001b[0m \u001b[0;34m\u001b[0m\u001b[0m\n\u001b[0;32m--> 130\u001b[0;31m     Variable._execution_engine.run_backward(\n\u001b[0m\u001b[1;32m    131\u001b[0m         \u001b[0mtensors\u001b[0m\u001b[0;34m,\u001b[0m \u001b[0mgrad_tensors_\u001b[0m\u001b[0;34m,\u001b[0m \u001b[0mretain_graph\u001b[0m\u001b[0;34m,\u001b[0m \u001b[0mcreate_graph\u001b[0m\u001b[0;34m,\u001b[0m\u001b[0;34m\u001b[0m\u001b[0;34m\u001b[0m\u001b[0m\n\u001b[1;32m    132\u001b[0m         allow_unreachable=True)  # allow_unreachable flag\n",
      "\u001b[0;31mKeyboardInterrupt\u001b[0m: "
     ]
    }
   ],
   "source": [
    "# Setup Learning Params\n",
    "\n",
    "criterion = nn.BCELoss()\n",
    "\n",
    "# optimizer = optim.SGD(model.parameters(), lr=0.01)\n",
    "optimizer = optim.Adam(model.parameters(), lr=0.0001, betas=(0.9, 0.999))\n",
    "\n",
    "\n",
    "# Training Loop\n",
    "dead = 0\n",
    "alive = 0\n",
    "\n",
    "# Class:\n",
    "#  0: Dead\n",
    "#  1: Alive\n",
    "\n",
    "loss_totals = []\n",
    "test_totals = []\n",
    "        \n",
    "for epoch in range(epochs):\n",
    "    loss_total = 0\n",
    "    for series, label in train_data:\n",
    "        model.zero_grad()\n",
    "        \n",
    "        series = series.to(device)\n",
    "        label = label.to(device)\n",
    "#         label = label.view(1,2)\n",
    "        \n",
    "        output = model(series).squeeze()\n",
    "#         print(output, label)\n",
    "        loss = criterion(output, label.float())\n",
    "        loss_total += loss\n",
    "#         print(output, label, loss)\n",
    "        loss.backward()\n",
    "        optimizer.step()\n",
    "        \n",
    "    \n",
    "    \n",
    "    test_accuracy, a_accuracy, d_accuracy = test_model(model, test_data)\n",
    "    \n",
    "    print(f\"Epoch {epoch}/{epochs} - Test Accuracy: {test_accuracy} - A&D: {a_accuracy}, {d_accuracy} - Loss: {loss_total/len(train_data)}\")\n",
    "    \n",
    "    loss_totals.append(loss_total/len(train_data))\n",
    "    test_totals.append(test_accuracy)\n",
    "        \n",
    "        \n",
    "        "
   ]
  },
  {
   "cell_type": "code",
   "execution_count": 116,
   "metadata": {},
   "outputs": [],
   "source": [
    "# Save Weights\n",
    "# torch.save(model.state_dict(), \"weights/weights1.pt\"); print(\"weights saved\")\n",
    "\n",
    "model = ResnetLSTM().to(device)\n",
    "model = model.load_state_dict\n"
   ]
  },
  {
   "cell_type": "code",
   "execution_count": 70,
   "metadata": {},
   "outputs": [
    {
     "name": "stdout",
     "output_type": "stream",
     "text": [
      "288 4\n"
     ]
    }
   ],
   "source": [
    "validation_path = \"data/validation\"\n",
    "validation_data = LstmLoader(validation_path)\n",
    "\n",
    "validation_accuracy = test_model(model, validation_data)"
   ]
  },
  {
   "cell_type": "code",
   "execution_count": 71,
   "metadata": {},
   "outputs": [
    {
     "name": "stdout",
     "output_type": "stream",
     "text": [
      "Overall Validation Accuracy: 0.9749, Alive Accuracy: 0.9863, Dead Acuracy: 0.9641\n"
     ]
    }
   ],
   "source": [
    "print(f\"Overall Validation Accuracy: {validation_accuracy[0]}, Alive Accuracy: {validation_accuracy[1]}, Dead Acuracy: {validation_accuracy[2]}\")"
   ]
  },
  {
   "cell_type": "code",
   "execution_count": 160,
   "metadata": {},
   "outputs": [
    {
     "name": "stdout",
     "output_type": "stream",
     "text": [
      "Real Label, Predicted Label:\n",
      "Dead, Alive\n"
     ]
    },
    {
     "data": {
      "image/png": "[encoded data removed]",
      "text/plain": [
       "<Figure size 432x288 with 3 Axes>"
      ]
     },
     "metadata": {
      "needs_background": "light"
     },
     "output_type": "display_data"
    }
   ],
   "source": [
    "def show_sample(data, index, model=model):\n",
    "    series, label = data[index]\n",
    "    label = int(label)\n",
    "    \n",
    "    if label == 1:\n",
    "        real = \"Alive\"\n",
    "    elif label == 0:\n",
    "        real = \"Dead\"\n",
    "    \n",
    "    raw_series, _ = data.__getitem__(index, raw=True)\n",
    "    \n",
    "    pred_label = model(series.to(device))\n",
    "    if pred_label > 0.5:\n",
    "        pred = \"Alive\"\n",
    "    elif pred_label < 0.5:\n",
    "        pred = \"dead\"\n",
    "        \n",
    "    return raw_series, real, pred\n",
    "    \n",
    "\n",
    "# model(validation_data[0][0].to(device))\n",
    "\n",
    "f, axarr = plt.subplots(1,3)\n",
    "\n",
    "sample_series, real, pred = show_sample(validation_data, 584)\n",
    "axarr[0].imshow(sample_series[0])\n",
    "axarr[1].imshow(sample_series[1])\n",
    "axarr[2].imshow(sample_series[2])\n",
    "# print(f\"Pred: {}\")\n",
    "print(f\"Real Label, Predicted Label:\")\n",
    "print(f\"{real}, {pred}\")"
   ]
  },
  {
   "cell_type": "code",
   "execution_count": 112,
   "metadata": {},
   "outputs": [
    {
     "name": "stdout",
     "output_type": "stream",
     "text": [
      "299 299\n"
     ]
    }
   ],
   "source": [
    "alive = 0\n",
    "dead = 0\n",
    "\n",
    "for i in validation_data:\n",
    "    seq, label = i\n",
    "    if int(label) == 1:\n",
    "        alive += 1\n",
    "    elif int(label) == 0:\n",
    "        dead += 1\n",
    "        \n",
    "print(dead, alive)"
   ]
  },
  {
   "cell_type": "code",
   "execution_count": 143,
   "metadata": {},
   "outputs": [],
   "source": [
    "incorrect = []\n",
    "for i, item in enumerate(validation_data):\n",
    "    series, label = item \n",
    "    pred_label = model(series.to(device))\n",
    "    \n",
    "    if label == 1:\n",
    "        real = \"Alive\"\n",
    "    elif label == 0:\n",
    "        real = \"Dead\"\n",
    "    \n",
    "    if pred_label > 0.5:\n",
    "        pred = \"Alive\"\n",
    "    elif pred_label < 0.5:\n",
    "        pred = \"Dead\"\n",
    "        \n",
    "    if pred == real:\n",
    "        pass\n",
    "    else:\n",
    "        incorrect.append(i)\n",
    "    \n",
    "    "
   ]
  },
  {
   "cell_type": "code",
   "execution_count": 144,
   "metadata": {},
   "outputs": [
    {
     "data": {
      "text/plain": [
       "[0, 3, 11, 34, 56, 68, 150, 169, 233, 283, 288, 466, 497, 575, 584]"
      ]
     },
     "execution_count": 144,
     "metadata": {},
     "output_type": "execute_result"
    }
   ],
   "source": [
    "incorrect"
   ]
  },
  {
   "cell_type": "code",
   "execution_count": null,
   "metadata": {},
   "outputs": [],
   "source": []
  }
 ],
 "metadata": {
  "kernelspec": {
   "display_name": "Python 3",
   "language": "python",
   "name": "python3"
  },
  "language_info": {
   "codemirror_mode": {
    "name": "ipython",
    "version": 3
   },
   "file_extension": ".py",
   "mimetype": "text/x-python",
   "name": "python",
   "nbconvert_exporter": "python",
   "pygments_lexer": "ipython3",
   "version": "3.8.10"
  }
 },
 "nbformat": 4,
 "nbformat_minor": 4
}
