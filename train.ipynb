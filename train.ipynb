{
 "cells": [
  {
   "cell_type": "code",
   "execution_count": 1,
   "metadata": {},
   "outputs": [],
   "source": [
    "%load_ext autoreload\n",
    "%autoreload 2\n",
    "\n",
    "from __future__ import print_function\n",
    "%matplotlib inline\n",
    "import cv2\n",
    "import os\n",
    "from skimage import io, transform\n",
    "import numpy as np\n",
    "\n",
    "import matplotlib.pyplot as plt\n",
    "import matplotlib.animation as animation\n",
    "from IPython.display import HTML\n",
    "\n",
    "import torch\n",
    "import torchvision\n",
    "from torchvision import transforms, datasets, utils as vutils\n",
    "from torch.utils.data import Dataset, DataLoader\n",
    "import torch.nn as nn\n",
    "import torch.nn.functional as F\n",
    "import torch.optim as optim"
   ]
  },
  {
   "cell_type": "code",
   "execution_count": 3,
   "metadata": {},
   "outputs": [],
   "source": [
    "# https://www.researchgate.net/publication/353370951_Towards_Lifespan_Automation_for_Caenorhabditis_elegans_Based_on_Deep_Learning_Analysing_Convolutional_and_Recurrent_Neural_Networks_for_Dead_or_Live_Classification\n",
    "\n",
    "from utils.data_utils import LstmLoader\n",
    "from model import Resnet18Pretrained\n",
    "from model import ResnetLSTM\n",
    "\n",
    "\n",
    "data_path = \"data/training_real\"\n",
    "\n",
    "data_loader = LstmLoader(data_path)\n",
    "\n",
    "\n",
    "# Settings\n",
    "\n",
    "learning_rate = 0.1\n",
    "\n",
    "epochs = 100\n",
    "\n",
    "\n",
    "device = torch.device(\"cuda:0\" if torch.cuda.is_available() else \"cpu\")\n"
   ]
  },
  {
   "cell_type": "code",
   "execution_count": 4,
   "metadata": {},
   "outputs": [
    {
     "name": "stdout",
     "output_type": "stream",
     "text": [
      "tensor([[0.5042]], device='cuda:0', grad_fn=<SigmoidBackward>)\n",
      "tensor([[0.5038]], device='cuda:0', grad_fn=<SigmoidBackward>)\n",
      "tensor(1)\n"
     ]
    }
   ],
   "source": [
    "sample = torch.randn(3, 3, 244, 244).to(device)\n",
    "\n",
    "# Pass a few data to see how it looks\n",
    "model = ResnetLSTM().to(device)\n",
    "a = model(sample)\n",
    "print(a)\n",
    "\n",
    "sample, label = data_loader[0][0].to(device), data_loader[0][1]\n",
    "out = model(sample)\n",
    "print(out)\n",
    "\n",
    "print(label)"
   ]
  },
  {
   "cell_type": "code",
   "execution_count": 5,
   "metadata": {},
   "outputs": [
    {
     "name": "stdout",
     "output_type": "stream",
     "text": [
      "Total Data: 2245\n",
      "Test split: 336\n",
      "Train split: 1909\n"
     ]
    }
   ],
   "source": [
    "\n",
    "test_len = int(len(data_loader) * 0.15)\n",
    "train_len = len(data_loader) - test_len\n",
    "\n",
    "print(f\"Total Data: {len(data_loader)}\")\n",
    "print(f\"Test split: {test_len}\")\n",
    "print(f\"Train split: {train_len}\")\n",
    "\n",
    "test_data, train_data = torch.utils.data.random_split(data_loader, (test_len, train_len))\n",
    "\n",
    "# train_data = DataLoader(train_dataset, batch_size=4, shuffle=True, num_workers=0)\n",
    "# test_data = DataLoader(test_dataset, batch_size=1, shuffle=True, num_workers=0)\n"
   ]
  },
  {
   "cell_type": "code",
   "execution_count": 6,
   "metadata": {},
   "outputs": [],
   "source": [
    "# train_data = DataLoader(train_data, batch_size=None, shuffle=True, num_workers=0)\n",
    "# test_data = DataLoader(test_data, batch_size=None, shuffle=True, num_workers=0)"
   ]
  },
  {
   "cell_type": "code",
   "execution_count": 7,
   "metadata": {},
   "outputs": [
    {
     "name": "stdout",
     "output_type": "stream",
     "text": [
      "380 1529\n"
     ]
    }
   ],
   "source": [
    "alive = 0\n",
    "dead = 0\n",
    "\n",
    "for i in train_data:\n",
    "    seq, label = i\n",
    "    if int(label) == 1:\n",
    "        alive += 1\n",
    "    elif int(label) == 0:\n",
    "        dead += 1\n",
    "        \n",
    "print(dead, alive)"
   ]
  },
  {
   "cell_type": "code",
   "execution_count": 7,
   "metadata": {},
   "outputs": [
    {
     "name": "stdout",
     "output_type": "stream",
     "text": [
      "367 142\n"
     ]
    },
    {
     "data": {
      "text/plain": [
       "(0.721, 0.721, 0)"
      ]
     },
     "execution_count": 7,
     "metadata": {},
     "output_type": "execute_result"
    }
   ],
   "source": [
    "def test_model(model2, data):\n",
    "    correct = 0\n",
    "    incorrect = 0\n",
    "    dead_correct = 0\n",
    "    dead_incorrect = 0\n",
    "    alive_correct = 0\n",
    "    alive_incorrect = 0\n",
    "    \n",
    "    with torch.no_grad():\n",
    "        for series, label in data:\n",
    "            series = series.to(device)\n",
    "            real_class = int(label)\n",
    "#             real_class = int(torch.argmax(label))\n",
    "            \n",
    "            output = model2(series)\n",
    "            if output > 0.5:\n",
    "                pred_class = 1\n",
    "            elif output < 0.5:\n",
    "                pred_class = 0\n",
    "\n",
    "#             print(output, pred_class, real_class)\n",
    "            if pred_class == real_class:\n",
    "                correct += 1\n",
    "                if pred_class == 0:\n",
    "                    dead_correct += 1\n",
    "                elif pred_class == 1:\n",
    "                    alive_correct += 1\n",
    "                    \n",
    "            else:\n",
    "                incorrect += 1\n",
    "                if pred_class == 0:\n",
    "                    dead_incorrect += 1\n",
    "                elif pred_class == 1:\n",
    "                    alive_incorrect += 1\n",
    "    \n",
    "    print(alive_correct, alive_incorrect)\n",
    "    \n",
    "    overall_accuracy = correct / len(data)\n",
    "    alive_accuracy = alive_correct / (alive_correct + alive_incorrect) if alive_correct else 0\n",
    "    dead_accuracy = dead_correct / (dead_correct + dead_incorrect) if dead_correct else 0\n",
    "    \n",
    "#     return (correct, incorrect, len(data))\n",
    "    return round(overall_accuracy, 4), round(alive_accuracy, 4), round(dead_accuracy, 4)\n",
    "\n",
    "test_model(model, test_data)"
   ]
  },
  {
   "cell_type": "code",
   "execution_count": null,
   "metadata": {},
   "outputs": [
    {
     "name": "stdout",
     "output_type": "stream",
     "text": [
      "340 3\n",
      "Epoch 0/100 - Test Accuracy: 0.9411 - A&D: 0.9913, 0.8373 - Loss: 0.28729525208473206\n",
      "weights saved\n",
      "346 8\n",
      "Epoch 1/100 - Test Accuracy: 0.943 - A&D: 0.9774, 0.8645 - Loss: 0.19463606178760529\n",
      "weights saved\n",
      "352 5\n",
      "Epoch 2/100 - Test Accuracy: 0.9607 - A&D: 0.986, 0.9013 - Loss: 0.18164485692977905\n",
      "weights saved\n",
      "347 2\n",
      "Epoch 3/100 - Test Accuracy: 0.9568 - A&D: 0.9943, 0.875 - Loss: 0.10192810744047165\n",
      "weights saved\n",
      "351 1\n",
      "Epoch 4/100 - Test Accuracy: 0.9666 - A&D: 0.9972, 0.8981 - Loss: 0.08653078228235245\n",
      "weights saved\n",
      "349 2\n",
      "Epoch 5/100 - Test Accuracy: 0.9607 - A&D: 0.9943, 0.8861 - Loss: 0.08765137195587158\n",
      "weights saved\n",
      "359 3\n",
      "Epoch 6/100 - Test Accuracy: 0.9784 - A&D: 0.9917, 0.9456 - Loss: 0.07022090256214142\n",
      "weights saved\n",
      "359 2\n",
      "Epoch 7/100 - Test Accuracy: 0.9804 - A&D: 0.9945, 0.9459 - Loss: 0.063375324010849\n",
      "weights saved\n",
      "360 3\n",
      "Epoch 8/100 - Test Accuracy: 0.9804 - A&D: 0.9917, 0.9521 - Loss: 0.05680713802576065\n",
      "weights saved\n",
      "361 2\n",
      "Epoch 9/100 - Test Accuracy: 0.9843 - A&D: 0.9945, 0.9589 - Loss: 0.05045277997851372\n",
      "weights saved\n",
      "357 1\n",
      "Epoch 10/100 - Test Accuracy: 0.9784 - A&D: 0.9972, 0.9338 - Loss: 0.08919406682252884\n",
      "weights saved\n",
      "361 2\n",
      "Epoch 11/100 - Test Accuracy: 0.9843 - A&D: 0.9945, 0.9589 - Loss: 0.042064368724823\n",
      "weights saved\n",
      "356 2\n",
      "Epoch 12/100 - Test Accuracy: 0.9745 - A&D: 0.9944, 0.9272 - Loss: 0.03376811742782593\n",
      "weights saved\n",
      "355 3\n",
      "Epoch 13/100 - Test Accuracy: 0.9705 - A&D: 0.9916, 0.9205 - Loss: 0.03689117357134819\n",
      "weights saved\n",
      "363 2\n",
      "Epoch 14/100 - Test Accuracy: 0.9882 - A&D: 0.9945, 0.9722 - Loss: 0.03659262880682945\n",
      "weights saved\n",
      "353 1\n",
      "Epoch 15/100 - Test Accuracy: 0.9705 - A&D: 0.9972, 0.9097 - Loss: 0.025205189362168312\n",
      "weights saved\n",
      "357 2\n",
      "Epoch 16/100 - Test Accuracy: 0.9764 - A&D: 0.9944, 0.9333 - Loss: 0.023718319833278656\n",
      "weights saved\n",
      "353 3\n",
      "Epoch 17/100 - Test Accuracy: 0.9666 - A&D: 0.9916, 0.9085 - Loss: 0.026682361960411072\n",
      "weights saved\n",
      "359 2\n",
      "Epoch 18/100 - Test Accuracy: 0.9804 - A&D: 0.9945, 0.9459 - Loss: 0.026301926001906395\n",
      "weights saved\n",
      "359 3\n",
      "Epoch 19/100 - Test Accuracy: 0.9784 - A&D: 0.9917, 0.9456 - Loss: 0.010166212916374207\n",
      "weights saved\n",
      "354 3\n",
      "Epoch 20/100 - Test Accuracy: 0.9686 - A&D: 0.9916, 0.9145 - Loss: 0.020146969705820084\n",
      "weights saved\n",
      "363 3\n",
      "Epoch 21/100 - Test Accuracy: 0.9862 - A&D: 0.9918, 0.972 - Loss: 0.01646982692182064\n",
      "weights saved\n",
      "359 4\n",
      "Epoch 22/100 - Test Accuracy: 0.9764 - A&D: 0.989, 0.9452 - Loss: 0.007712557911872864\n",
      "weights saved\n",
      "357 2\n",
      "Epoch 23/100 - Test Accuracy: 0.9764 - A&D: 0.9944, 0.9333 - Loss: 0.017671314999461174\n",
      "weights saved\n",
      "361 2\n",
      "Epoch 24/100 - Test Accuracy: 0.9843 - A&D: 0.9945, 0.9589 - Loss: 0.011852368712425232\n",
      "weights saved\n",
      "359 2\n",
      "Epoch 25/100 - Test Accuracy: 0.9804 - A&D: 0.9945, 0.9459 - Loss: 0.005153083708137274\n",
      "weights saved\n",
      "361 3\n",
      "Epoch 26/100 - Test Accuracy: 0.9823 - A&D: 0.9918, 0.9586 - Loss: 0.0005291429697535932\n",
      "weights saved\n",
      "357 4\n",
      "Epoch 27/100 - Test Accuracy: 0.9725 - A&D: 0.9889, 0.9324 - Loss: 0.01669417880475521\n",
      "weights saved\n",
      "360 1\n",
      "Epoch 28/100 - Test Accuracy: 0.9843 - A&D: 0.9972, 0.9527 - Loss: 0.007379196118563414\n",
      "weights saved\n",
      "361 2\n",
      "Epoch 29/100 - Test Accuracy: 0.9843 - A&D: 0.9945, 0.9589 - Loss: 0.00010712688526837155\n",
      "weights saved\n",
      "361 2\n",
      "Epoch 30/100 - Test Accuracy: 0.9843 - A&D: 0.9945, 0.9589 - Loss: 8.679053280502558e-06\n",
      "weights saved\n",
      "361 2\n",
      "Epoch 31/100 - Test Accuracy: 0.9843 - A&D: 0.9945, 0.9589 - Loss: 9.459288889956952e-07\n",
      "weights saved\n",
      "362 2\n",
      "Epoch 32/100 - Test Accuracy: 0.9862 - A&D: 0.9945, 0.9655 - Loss: 1.437731071973758e-07\n",
      "weights saved\n",
      "361 2\n",
      "Epoch 33/100 - Test Accuracy: 0.9843 - A&D: 0.9945, 0.9589 - Loss: 2.3243753588531035e-08\n",
      "weights saved\n",
      "361 2\n",
      "Epoch 34/100 - Test Accuracy: 0.9843 - A&D: 0.9945, 0.9589 - Loss: 4.764246774868752e-09\n",
      "weights saved\n",
      "362 2\n",
      "Epoch 35/100 - Test Accuracy: 0.9862 - A&D: 0.9945, 0.9655 - Loss: 1.2993400799743426e-09\n",
      "weights saved\n",
      "362 2\n",
      "Epoch 36/100 - Test Accuracy: 0.9862 - A&D: 0.9945, 0.9655 - Loss: 5.981089512552273e-10\n",
      "weights saved\n",
      "357 2\n",
      "Epoch 37/100 - Test Accuracy: 0.9764 - A&D: 0.9944, 0.9333 - Loss: 0.021227814257144928\n",
      "weights saved\n",
      "360 2\n",
      "Epoch 38/100 - Test Accuracy: 0.9823 - A&D: 0.9945, 0.9524 - Loss: 0.008035033941268921\n",
      "weights saved\n"
     ]
    }
   ],
   "source": [
    "# Setup Learning Params\n",
    "\n",
    "criterion = nn.BCELoss()\n",
    "\n",
    "# optimizer = optim.SGD(model.parameters(), lr=0.01)\n",
    "optimizer = optim.Adam(model.parameters(), lr=0.0001, betas=(0.9, 0.999))\n",
    "\n",
    "\n",
    "# Training Loop\n",
    "dead = 0\n",
    "alive = 0\n",
    "\n",
    "# Class:\n",
    "#  0: Dead\n",
    "#  1: Alive\n",
    "\n",
    "loss_totals = []\n",
    "test_totals = []\n",
    "        \n",
    "for epoch in range(epochs):\n",
    "    loss_total = 0\n",
    "    for series, label in train_data:\n",
    "        model.zero_grad()\n",
    "        \n",
    "        series = series.to(device)\n",
    "        label = label.to(device)\n",
    "#         label = label.view(1,2)\n",
    "        \n",
    "        output = model(series).squeeze()\n",
    "#         print(output, label)\n",
    "        loss = criterion(output, label.float())\n",
    "        loss_total += loss\n",
    "#         print(output, label, loss)\n",
    "        loss.backward()\n",
    "        optimizer.step()\n",
    "        \n",
    "    \n",
    "    \n",
    "    test_accuracy, a_accuracy, d_accuracy = test_model(model, test_data)\n",
    "    \n",
    "    print(f\"Epoch {epoch}/{epochs} - Test Accuracy: {test_accuracy} - A&D: {a_accuracy}, {d_accuracy} - Loss: {loss_total/len(train_data)}\")\n",
    "    \n",
    "    loss_totals.append(loss_total/len(train_data))\n",
    "    test_totals.append(test_accuracy)\n",
    "    \n",
    "    # Save weights\n",
    "    torch.save(model.state_dict(), f\"weights/run0/weights{epoch}.pt\")\n",
    "    print(\"weights saved\")\n",
    "    \n",
    "        \n",
    "        "
   ]
  },
  {
   "cell_type": "code",
   "execution_count": 7,
   "metadata": {},
   "outputs": [
    {
     "data": {
      "text/plain": [
       "<All keys matched successfully>"
      ]
     },
     "execution_count": 7,
     "metadata": {},
     "output_type": "execute_result"
    }
   ],
   "source": [
    "# Save Weights\n",
    "# torch.save(model.state_dict(), \"weights/weights1.pt\"); print(\"weights saved\")\n",
    "\n",
    "model = ResnetLSTM().to(device)\n",
    "model.load_state_dict(torch.load(\"weights/run0/weights12.pt\", map_location=device))\n",
    "\n",
    "# netG = Generator(ngpu).to(device)\n",
    "# netG.load_state_dict(torch.load(\"weights/small_generator.pt\"))\n",
    "\n",
    "# model.eval()"
   ]
  },
  {
   "cell_type": "code",
   "execution_count": 10,
   "metadata": {},
   "outputs": [
    {
     "name": "stdout",
     "output_type": "stream",
     "text": [
      "286 1\n"
     ]
    }
   ],
   "source": [
    "validation_path = \"data/validation\"\n",
    "validation_data = LstmLoader(validation_path)\n",
    "\n",
    "validation_accuracy = test_model(model, validation_data)"
   ]
  },
  {
   "cell_type": "code",
   "execution_count": 11,
   "metadata": {},
   "outputs": [
    {
     "name": "stdout",
     "output_type": "stream",
     "text": [
      "Overall Validation Accuracy: 0.975, Alive Accuracy: 0.9965, Dead Acuracy: 0.9551\n"
     ]
    }
   ],
   "source": [
    "print(f\"Overall Validation Accuracy: {validation_accuracy[0]}, Alive Accuracy: {validation_accuracy[1]}, Dead Acuracy: {validation_accuracy[2]}\")"
   ]
  },
  {
   "cell_type": "code",
   "execution_count": 39,
   "metadata": {},
   "outputs": [
    {
     "name": "stdout",
     "output_type": "stream",
     "text": [
      "Real Label, Predicted Label:\n",
      "Alive, dead\n"
     ]
    },
    {
     "data": {
      "image/png": "[encoded data removed]",
      "text/plain": [
       "<Figure size 432x288 with 3 Axes>"
      ]
     },
     "metadata": {
      "needs_background": "light"
     },
     "output_type": "display_data"
    }
   ],
   "source": [
    "def show_sample(data, index, model=model):\n",
    "    series, label = data[index]\n",
    "    label = int(label)\n",
    "    \n",
    "    if label == 1:\n",
    "        real = \"Alive\"\n",
    "    elif label == 0:\n",
    "        real = \"Dead\"\n",
    "    \n",
    "    raw_series, _ = data.__getitem__(index, raw=True)\n",
    "    \n",
    "    pred_label = model(series.to(device))\n",
    "    if pred_label > 0.5:\n",
    "        pred = \"Alive\"\n",
    "    elif pred_label < 0.5:\n",
    "        pred = \"dead\"\n",
    "        \n",
    "    return raw_series, real, pred\n",
    "    \n",
    "\n",
    "# model(validation_data[0][0].to(device))\n",
    "\n",
    "f, axarr = plt.subplots(1,3)\n",
    "\n",
    "sample_series, real, pred = show_sample(validation_data, 3)\n",
    "axarr[0].imshow(sample_series[0])\n",
    "axarr[1].imshow(sample_series[1])\n",
    "axarr[2].imshow(sample_series[2])\n",
    "# print(f\"Pred: {}\")\n",
    "print(f\"Real Label, Predicted Label:\")\n",
    "print(f\"{real}, {pred}\")"
   ]
  },
  {
   "cell_type": "code",
   "execution_count": 40,
   "metadata": {},
   "outputs": [
    {
     "name": "stdout",
     "output_type": "stream",
     "text": [
      "299 300\n"
     ]
    }
   ],
   "source": [
    "alive = 0\n",
    "dead = 0\n",
    "\n",
    "for i in validation_data:\n",
    "    seq, label = i\n",
    "    if int(label) == 1:\n",
    "        alive += 1\n",
    "    elif int(label) == 0:\n",
    "        dead += 1\n",
    "        \n",
    "print(dead, alive)"
   ]
  },
  {
   "cell_type": "code",
   "execution_count": 41,
   "metadata": {},
   "outputs": [],
   "source": [
    "incorrect = []\n",
    "for i, item in enumerate(validation_data):\n",
    "    series, label = item \n",
    "    pred_label = model(series.to(device))\n",
    "    \n",
    "    if label == 1:\n",
    "        real = \"Alive\"\n",
    "    elif label == 0:\n",
    "        real = \"Dead\"\n",
    "    \n",
    "    if pred_label > 0.5:\n",
    "        pred = \"Alive\"\n",
    "    elif pred_label < 0.5:\n",
    "        pred = \"Dead\"\n",
    "        \n",
    "    if pred == real:\n",
    "        pass\n",
    "    else:\n",
    "        incorrect.append(i)\n",
    "    \n",
    "    "
   ]
  },
  {
   "cell_type": "code",
   "execution_count": 37,
   "metadata": {},
   "outputs": [
    {
     "data": {
      "text/plain": [
       "[0, 3, 11, 34, 56, 68, 71, 150, 169, 198, 233, 279, 283, 288, 498]"
      ]
     },
     "execution_count": 37,
     "metadata": {},
     "output_type": "execute_result"
    }
   ],
   "source": [
    "incorrect"
   ]
  },
  {
   "cell_type": "code",
   "execution_count": 12,
   "metadata": {},
   "outputs": [
    {
     "name": "stdout",
     "output_type": "stream",
     "text": [
      "1253 73\n",
      "Overall Validation Accuracy: 0.795, Alive Accuracy: 0.9449, Dead Acuracy: 0.7206\n"
     ]
    }
   ],
   "source": [
    "validation_path = \"test_data/fake2\"\n",
    "validation_data = LstmLoader(validation_path)\n",
    "\n",
    "validation_accuracy = test_model(model, validation_data)\n",
    "print(f\"Overall Validation Accuracy: {validation_accuracy[0]}, Alive Accuracy: {validation_accuracy[1]}, Dead Acuracy: {validation_accuracy[2]}\")"
   ]
  },
  {
   "cell_type": "code",
   "execution_count": 43,
   "metadata": {},
   "outputs": [
    {
     "data": {
      "text/plain": [
       "51"
      ]
     },
     "execution_count": 43,
     "metadata": {},
     "output_type": "execute_result"
    }
   ],
   "source": [
    "len(validation_data)"
   ]
  },
  {
   "cell_type": "code",
   "execution_count": 8,
   "metadata": {},
   "outputs": [
    {
     "data": {
      "text/plain": [
       "(tensor([[[[0.0035, 0.0035, 0.0035,  ..., 0.0034, 0.0034, 0.0034],\n",
       "           [0.0035, 0.0035, 0.0035,  ..., 0.0034, 0.0034, 0.0034],\n",
       "           [0.0035, 0.0035, 0.0035,  ..., 0.0035, 0.0035, 0.0035],\n",
       "           ...,\n",
       "           [0.0034, 0.0034, 0.0034,  ..., 0.0026, 0.0025, 0.0025],\n",
       "           [0.0033, 0.0033, 0.0034,  ..., 0.0025, 0.0024, 0.0024],\n",
       "           [0.0033, 0.0033, 0.0034,  ..., 0.0025, 0.0024, 0.0024]],\n",
       " \n",
       "          [[0.0035, 0.0035, 0.0035,  ..., 0.0034, 0.0034, 0.0034],\n",
       "           [0.0035, 0.0035, 0.0035,  ..., 0.0034, 0.0034, 0.0034],\n",
       "           [0.0035, 0.0035, 0.0035,  ..., 0.0035, 0.0035, 0.0035],\n",
       "           ...,\n",
       "           [0.0034, 0.0034, 0.0034,  ..., 0.0026, 0.0025, 0.0025],\n",
       "           [0.0033, 0.0033, 0.0034,  ..., 0.0025, 0.0024, 0.0024],\n",
       "           [0.0033, 0.0033, 0.0034,  ..., 0.0025, 0.0024, 0.0024]],\n",
       " \n",
       "          [[0.0035, 0.0035, 0.0035,  ..., 0.0034, 0.0034, 0.0034],\n",
       "           [0.0035, 0.0035, 0.0035,  ..., 0.0034, 0.0034, 0.0034],\n",
       "           [0.0035, 0.0035, 0.0035,  ..., 0.0035, 0.0035, 0.0035],\n",
       "           ...,\n",
       "           [0.0034, 0.0034, 0.0034,  ..., 0.0026, 0.0025, 0.0025],\n",
       "           [0.0033, 0.0033, 0.0034,  ..., 0.0025, 0.0024, 0.0024],\n",
       "           [0.0033, 0.0033, 0.0034,  ..., 0.0025, 0.0024, 0.0024]]],\n",
       " \n",
       " \n",
       "         [[[0.0021, 0.0021, 0.0021,  ..., 0.0019, 0.0019, 0.0019],\n",
       "           [0.0021, 0.0021, 0.0021,  ..., 0.0019, 0.0019, 0.0019],\n",
       "           [0.0021, 0.0021, 0.0021,  ..., 0.0019, 0.0019, 0.0019],\n",
       "           ...,\n",
       "           [0.0022, 0.0022, 0.0023,  ..., 0.0018, 0.0018, 0.0018],\n",
       "           [0.0022, 0.0022, 0.0022,  ..., 0.0019, 0.0019, 0.0019],\n",
       "           [0.0022, 0.0022, 0.0022,  ..., 0.0019, 0.0019, 0.0019]],\n",
       " \n",
       "          [[0.0021, 0.0021, 0.0021,  ..., 0.0019, 0.0019, 0.0019],\n",
       "           [0.0021, 0.0021, 0.0021,  ..., 0.0019, 0.0019, 0.0019],\n",
       "           [0.0021, 0.0021, 0.0021,  ..., 0.0019, 0.0019, 0.0019],\n",
       "           ...,\n",
       "           [0.0022, 0.0022, 0.0023,  ..., 0.0018, 0.0018, 0.0018],\n",
       "           [0.0022, 0.0022, 0.0022,  ..., 0.0019, 0.0019, 0.0019],\n",
       "           [0.0022, 0.0022, 0.0022,  ..., 0.0019, 0.0019, 0.0019]],\n",
       " \n",
       "          [[0.0021, 0.0021, 0.0021,  ..., 0.0019, 0.0019, 0.0019],\n",
       "           [0.0021, 0.0021, 0.0021,  ..., 0.0019, 0.0019, 0.0019],\n",
       "           [0.0021, 0.0021, 0.0021,  ..., 0.0019, 0.0019, 0.0019],\n",
       "           ...,\n",
       "           [0.0022, 0.0022, 0.0023,  ..., 0.0018, 0.0018, 0.0018],\n",
       "           [0.0022, 0.0022, 0.0022,  ..., 0.0019, 0.0019, 0.0019],\n",
       "           [0.0022, 0.0022, 0.0022,  ..., 0.0019, 0.0019, 0.0019]]],\n",
       " \n",
       " \n",
       "         [[[0.0036, 0.0036, 0.0036,  ..., 0.0028, 0.0028, 0.0028],\n",
       "           [0.0036, 0.0036, 0.0036,  ..., 0.0028, 0.0028, 0.0028],\n",
       "           [0.0036, 0.0036, 0.0036,  ..., 0.0028, 0.0028, 0.0028],\n",
       "           ...,\n",
       "           [0.0024, 0.0024, 0.0024,  ..., 0.0024, 0.0023, 0.0023],\n",
       "           [0.0023, 0.0023, 0.0024,  ..., 0.0023, 0.0023, 0.0023],\n",
       "           [0.0023, 0.0023, 0.0024,  ..., 0.0023, 0.0023, 0.0023]],\n",
       " \n",
       "          [[0.0036, 0.0036, 0.0036,  ..., 0.0028, 0.0028, 0.0028],\n",
       "           [0.0036, 0.0036, 0.0036,  ..., 0.0028, 0.0028, 0.0028],\n",
       "           [0.0036, 0.0036, 0.0036,  ..., 0.0028, 0.0028, 0.0028],\n",
       "           ...,\n",
       "           [0.0024, 0.0024, 0.0024,  ..., 0.0024, 0.0023, 0.0023],\n",
       "           [0.0023, 0.0023, 0.0024,  ..., 0.0023, 0.0023, 0.0023],\n",
       "           [0.0023, 0.0023, 0.0024,  ..., 0.0023, 0.0023, 0.0023]],\n",
       " \n",
       "          [[0.0036, 0.0036, 0.0036,  ..., 0.0028, 0.0028, 0.0028],\n",
       "           [0.0036, 0.0036, 0.0036,  ..., 0.0028, 0.0028, 0.0028],\n",
       "           [0.0036, 0.0036, 0.0036,  ..., 0.0028, 0.0028, 0.0028],\n",
       "           ...,\n",
       "           [0.0024, 0.0024, 0.0024,  ..., 0.0024, 0.0023, 0.0023],\n",
       "           [0.0023, 0.0023, 0.0024,  ..., 0.0023, 0.0023, 0.0023],\n",
       "           [0.0023, 0.0023, 0.0024,  ..., 0.0023, 0.0023, 0.0023]]]]),\n",
       " tensor(1))"
      ]
     },
     "execution_count": 8,
     "metadata": {},
     "output_type": "execute_result"
    }
   ],
   "source": []
  },
  {
   "cell_type": "code",
   "execution_count": null,
   "metadata": {},
   "outputs": [],
   "source": []
  }
 ],
 "metadata": {
  "interpreter": {
   "hash": "31f2aee4e71d21fbe5cf8b01ff0e069b9275f58929596ceb00d14d90e3e16cd6"
  },
  "kernelspec": {
   "display_name": "Python 3.8.10 64-bit",
   "name": "python3"
  },
  "language_info": {
   "codemirror_mode": {
    "name": "ipython",
    "version": 3
   },
   "file_extension": ".py",
   "mimetype": "text/x-python",
   "name": "python",
   "nbconvert_exporter": "python",
   "pygments_lexer": "ipython3",
   "version": "3.8.10"
  },
  "vscode": {
   "interpreter": {
    "hash": "31f2aee4e71d21fbe5cf8b01ff0e069b9275f58929596ceb00d14d90e3e16cd6"
   }
  }
 },
 "nbformat": 4,
 "nbformat_minor": 4
}
